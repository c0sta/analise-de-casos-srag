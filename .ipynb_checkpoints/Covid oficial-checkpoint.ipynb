{
 "cells": [
  {
   "cell_type": "markdown",
   "metadata": {},
   "source": [
    "#### Os dados, até a data do presente estudo, estão no https://covid.saude.gov.br/\n",
    "#### O presente arquivo é de 30 de junho. Atenção: de acordo com o dia em que for feita a análise, a última barra da totalização por semana estará menor.\n",
    "#### Disclaimer/Aviso Legal: Este notebook tem um fim única e exclusivamente didático, para alunos da FATEC, como uma introdução à Análise de Dados Públicos. Desse modo, está excluída a garantia ou responsabilidade de qualquer tipo, por exemplo, de precisão, confiabilidade, completude e atualidade das informações."
   ]
  },
  {
   "cell_type": "code",
   "execution_count": 1,
   "metadata": {},
   "outputs": [],
   "source": [
    "import pandas as pd\n",
    "low_memory=False\n",
    "import matplotlib.pyplot as plt\n",
    "%matplotlib inline\n",
    "pd.options.display.max_columns = 80\n",
    "pd.options.display.max_rows = 90"
   ]
  },
  {
   "cell_type": "code",
   "execution_count": 2,
   "metadata": {},
   "outputs": [],
   "source": [
    "filename = r'C:\\Users\\fmasa\\Downloads\\HIST_PAINEL_COVIDBR_30jun2020.xlsx'\n",
    "df = pd.read_excel(filename)"
   ]
  },
  {
   "cell_type": "code",
   "execution_count": 3,
   "metadata": {},
   "outputs": [
    {
     "data": {
      "text/plain": [
       "(516100, 17)"
      ]
     },
     "execution_count": 3,
     "metadata": {},
     "output_type": "execute_result"
    }
   ],
   "source": [
    "df.shape"
   ]
  },
  {
   "cell_type": "code",
   "execution_count": 4,
   "metadata": {},
   "outputs": [
    {
     "name": "stdout",
     "output_type": "stream",
     "text": [
      "<class 'pandas.core.frame.DataFrame'>\n",
      "RangeIndex: 516100 entries, 0 to 516099\n",
      "Data columns (total 17 columns):\n",
      " #   Column                  Non-Null Count   Dtype         \n",
      "---  ------                  --------------   -----         \n",
      " 0   regiao                  516100 non-null  object        \n",
      " 1   estado                  515973 non-null  object        \n",
      " 2   municipio               510528 non-null  object        \n",
      " 3   coduf                   516100 non-null  int64         \n",
      " 4   codmun                  512544 non-null  float64       \n",
      " 5   codRegiaoSaude          510528 non-null  float64       \n",
      " 6   nomeRegiaoSaude         510528 non-null  object        \n",
      " 7   data                    516100 non-null  datetime64[ns]\n",
      " 8   semanaEpi               516100 non-null  int64         \n",
      " 9   populacaoTCU2019        514084 non-null  object        \n",
      " 10  casosAcumulado          516100 non-null  int64         \n",
      " 11  casosNovos              516100 non-null  int64         \n",
      " 12  obitosAcumulado         516100 non-null  int64         \n",
      " 13  obitosNovos             516100 non-null  int64         \n",
      " 14  Recuperadosnovos        73 non-null      float64       \n",
      " 15  emAcompanhamentoNovos   73 non-null      float64       \n",
      " 16  interior/metropolitana  510528 non-null  float64       \n",
      "dtypes: datetime64[ns](1), float64(5), int64(6), object(5)\n",
      "memory usage: 57.1+ MB\n"
     ]
    }
   ],
   "source": [
    "df.info()"
   ]
  },
  {
   "cell_type": "code",
   "execution_count": 5,
   "metadata": {},
   "outputs": [
    {
     "data": {
      "text/html": [
       "<div>\n",
       "<style scoped>\n",
       "    .dataframe tbody tr th:only-of-type {\n",
       "        vertical-align: middle;\n",
       "    }\n",
       "\n",
       "    .dataframe tbody tr th {\n",
       "        vertical-align: top;\n",
       "    }\n",
       "\n",
       "    .dataframe thead th {\n",
       "        text-align: right;\n",
       "    }\n",
       "</style>\n",
       "<table border=\"1\" class=\"dataframe\">\n",
       "  <thead>\n",
       "    <tr style=\"text-align: right;\">\n",
       "      <th></th>\n",
       "      <th>regiao</th>\n",
       "      <th>estado</th>\n",
       "      <th>municipio</th>\n",
       "      <th>coduf</th>\n",
       "      <th>codmun</th>\n",
       "      <th>codRegiaoSaude</th>\n",
       "      <th>nomeRegiaoSaude</th>\n",
       "      <th>data</th>\n",
       "      <th>semanaEpi</th>\n",
       "      <th>populacaoTCU2019</th>\n",
       "      <th>casosAcumulado</th>\n",
       "      <th>casosNovos</th>\n",
       "      <th>obitosAcumulado</th>\n",
       "      <th>obitosNovos</th>\n",
       "      <th>Recuperadosnovos</th>\n",
       "      <th>emAcompanhamentoNovos</th>\n",
       "      <th>interior/metropolitana</th>\n",
       "    </tr>\n",
       "  </thead>\n",
       "  <tbody>\n",
       "    <tr>\n",
       "      <th>126091</th>\n",
       "      <td>Nordeste</td>\n",
       "      <td>PB</td>\n",
       "      <td>Cruz do Espírito Santo</td>\n",
       "      <td>25</td>\n",
       "      <td>250490.0</td>\n",
       "      <td>25001.0</td>\n",
       "      <td>1ª REGIAO MATA ATLANTICA</td>\n",
       "      <td>2020-05-05</td>\n",
       "      <td>19</td>\n",
       "      <td>17319</td>\n",
       "      <td>6</td>\n",
       "      <td>2</td>\n",
       "      <td>1</td>\n",
       "      <td>1</td>\n",
       "      <td>NaN</td>\n",
       "      <td>NaN</td>\n",
       "      <td>1.0</td>\n",
       "    </tr>\n",
       "    <tr>\n",
       "      <th>77933</th>\n",
       "      <td>Nordeste</td>\n",
       "      <td>PI</td>\n",
       "      <td>Morro Cabeça no Tempo</td>\n",
       "      <td>22</td>\n",
       "      <td>220665.0</td>\n",
       "      <td>22002.0</td>\n",
       "      <td>CHAPADA DAS MANGABEIRAS</td>\n",
       "      <td>2020-06-08</td>\n",
       "      <td>24</td>\n",
       "      <td>4532</td>\n",
       "      <td>10</td>\n",
       "      <td>0</td>\n",
       "      <td>0</td>\n",
       "      <td>0</td>\n",
       "      <td>NaN</td>\n",
       "      <td>NaN</td>\n",
       "      <td>0.0</td>\n",
       "    </tr>\n",
       "    <tr>\n",
       "      <th>197062</th>\n",
       "      <td>Nordeste</td>\n",
       "      <td>BA</td>\n",
       "      <td>Lapão</td>\n",
       "      <td>29</td>\n",
       "      <td>291915.0</td>\n",
       "      <td>29010.0</td>\n",
       "      <td>IRECE</td>\n",
       "      <td>2020-06-01</td>\n",
       "      <td>23</td>\n",
       "      <td>27223</td>\n",
       "      <td>0</td>\n",
       "      <td>0</td>\n",
       "      <td>0</td>\n",
       "      <td>0</td>\n",
       "      <td>NaN</td>\n",
       "      <td>NaN</td>\n",
       "      <td>0.0</td>\n",
       "    </tr>\n",
       "    <tr>\n",
       "      <th>289397</th>\n",
       "      <td>Sudeste</td>\n",
       "      <td>MG</td>\n",
       "      <td>Senhora dos Remédios</td>\n",
       "      <td>31</td>\n",
       "      <td>316620.0</td>\n",
       "      <td>31013.0</td>\n",
       "      <td>BARBACENA</td>\n",
       "      <td>2020-05-15</td>\n",
       "      <td>20</td>\n",
       "      <td>10459</td>\n",
       "      <td>0</td>\n",
       "      <td>0</td>\n",
       "      <td>0</td>\n",
       "      <td>0</td>\n",
       "      <td>NaN</td>\n",
       "      <td>NaN</td>\n",
       "      <td>0.0</td>\n",
       "    </tr>\n",
       "    <tr>\n",
       "      <th>126375</th>\n",
       "      <td>Nordeste</td>\n",
       "      <td>PB</td>\n",
       "      <td>Cuitegi</td>\n",
       "      <td>25</td>\n",
       "      <td>250520.0</td>\n",
       "      <td>25002.0</td>\n",
       "      <td>2ª REGIAO</td>\n",
       "      <td>2020-05-01</td>\n",
       "      <td>18</td>\n",
       "      <td>6803</td>\n",
       "      <td>0</td>\n",
       "      <td>0</td>\n",
       "      <td>0</td>\n",
       "      <td>0</td>\n",
       "      <td>NaN</td>\n",
       "      <td>NaN</td>\n",
       "      <td>0.0</td>\n",
       "    </tr>\n",
       "    <tr>\n",
       "      <th>7260</th>\n",
       "      <td>Norte</td>\n",
       "      <td>RO</td>\n",
       "      <td>Ministro Andreazza</td>\n",
       "      <td>11</td>\n",
       "      <td>110120.0</td>\n",
       "      <td>11002.0</td>\n",
       "      <td>CAFE</td>\n",
       "      <td>2020-05-22</td>\n",
       "      <td>21</td>\n",
       "      <td>9660</td>\n",
       "      <td>0</td>\n",
       "      <td>0</td>\n",
       "      <td>0</td>\n",
       "      <td>0</td>\n",
       "      <td>NaN</td>\n",
       "      <td>NaN</td>\n",
       "      <td>0.0</td>\n",
       "    </tr>\n",
       "    <tr>\n",
       "      <th>308961</th>\n",
       "      <td>Sudeste</td>\n",
       "      <td>RJ</td>\n",
       "      <td>Nova Iguaçu</td>\n",
       "      <td>33</td>\n",
       "      <td>330350.0</td>\n",
       "      <td>33005.0</td>\n",
       "      <td>METROPOLITANA I</td>\n",
       "      <td>2020-04-25</td>\n",
       "      <td>17</td>\n",
       "      <td>821128</td>\n",
       "      <td>283</td>\n",
       "      <td>17</td>\n",
       "      <td>23</td>\n",
       "      <td>2</td>\n",
       "      <td>NaN</td>\n",
       "      <td>NaN</td>\n",
       "      <td>1.0</td>\n",
       "    </tr>\n",
       "    <tr>\n",
       "      <th>430658</th>\n",
       "      <td>Sul</td>\n",
       "      <td>SC</td>\n",
       "      <td>São Cristóvão do Sul</td>\n",
       "      <td>42</td>\n",
       "      <td>421605.0</td>\n",
       "      <td>42009.0</td>\n",
       "      <td>ALTO VALE DO RIO DO PEIXE</td>\n",
       "      <td>2020-06-29</td>\n",
       "      <td>27</td>\n",
       "      <td>5549</td>\n",
       "      <td>5</td>\n",
       "      <td>0</td>\n",
       "      <td>0</td>\n",
       "      <td>0</td>\n",
       "      <td>NaN</td>\n",
       "      <td>NaN</td>\n",
       "      <td>0.0</td>\n",
       "    </tr>\n",
       "    <tr>\n",
       "      <th>202728</th>\n",
       "      <td>Nordeste</td>\n",
       "      <td>BA</td>\n",
       "      <td>Palmeiras</td>\n",
       "      <td>29</td>\n",
       "      <td>292350.0</td>\n",
       "      <td>29023.0</td>\n",
       "      <td>SEABRA</td>\n",
       "      <td>2020-06-03</td>\n",
       "      <td>23</td>\n",
       "      <td>9019</td>\n",
       "      <td>1</td>\n",
       "      <td>0</td>\n",
       "      <td>0</td>\n",
       "      <td>0</td>\n",
       "      <td>NaN</td>\n",
       "      <td>NaN</td>\n",
       "      <td>0.0</td>\n",
       "    </tr>\n",
       "    <tr>\n",
       "      <th>379411</th>\n",
       "      <td>Sul</td>\n",
       "      <td>PR</td>\n",
       "      <td>Centenário do Sul</td>\n",
       "      <td>41</td>\n",
       "      <td>410510.0</td>\n",
       "      <td>41017.0</td>\n",
       "      <td>17ª RS LONDRINA</td>\n",
       "      <td>2020-04-11</td>\n",
       "      <td>15</td>\n",
       "      <td>10827</td>\n",
       "      <td>0</td>\n",
       "      <td>0</td>\n",
       "      <td>0</td>\n",
       "      <td>0</td>\n",
       "      <td>NaN</td>\n",
       "      <td>NaN</td>\n",
       "      <td>0.0</td>\n",
       "    </tr>\n",
       "  </tbody>\n",
       "</table>\n",
       "</div>"
      ],
      "text/plain": [
       "          regiao estado               municipio  coduf    codmun  \\\n",
       "126091  Nordeste     PB  Cruz do Espírito Santo     25  250490.0   \n",
       "77933   Nordeste     PI   Morro Cabeça no Tempo     22  220665.0   \n",
       "197062  Nordeste     BA                   Lapão     29  291915.0   \n",
       "289397   Sudeste     MG    Senhora dos Remédios     31  316620.0   \n",
       "126375  Nordeste     PB                 Cuitegi     25  250520.0   \n",
       "7260       Norte     RO      Ministro Andreazza     11  110120.0   \n",
       "308961   Sudeste     RJ             Nova Iguaçu     33  330350.0   \n",
       "430658       Sul     SC    São Cristóvão do Sul     42  421605.0   \n",
       "202728  Nordeste     BA               Palmeiras     29  292350.0   \n",
       "379411       Sul     PR       Centenário do Sul     41  410510.0   \n",
       "\n",
       "        codRegiaoSaude            nomeRegiaoSaude       data  semanaEpi  \\\n",
       "126091         25001.0   1ª REGIAO MATA ATLANTICA 2020-05-05         19   \n",
       "77933          22002.0    CHAPADA DAS MANGABEIRAS 2020-06-08         24   \n",
       "197062         29010.0                      IRECE 2020-06-01         23   \n",
       "289397         31013.0                  BARBACENA 2020-05-15         20   \n",
       "126375         25002.0                  2ª REGIAO 2020-05-01         18   \n",
       "7260           11002.0                       CAFE 2020-05-22         21   \n",
       "308961         33005.0            METROPOLITANA I 2020-04-25         17   \n",
       "430658         42009.0  ALTO VALE DO RIO DO PEIXE 2020-06-29         27   \n",
       "202728         29023.0                     SEABRA 2020-06-03         23   \n",
       "379411         41017.0            17ª RS LONDRINA 2020-04-11         15   \n",
       "\n",
       "       populacaoTCU2019  casosAcumulado  casosNovos  obitosAcumulado  \\\n",
       "126091            17319               6           2                1   \n",
       "77933              4532              10           0                0   \n",
       "197062            27223               0           0                0   \n",
       "289397            10459               0           0                0   \n",
       "126375             6803               0           0                0   \n",
       "7260               9660               0           0                0   \n",
       "308961           821128             283          17               23   \n",
       "430658             5549               5           0                0   \n",
       "202728             9019               1           0                0   \n",
       "379411            10827               0           0                0   \n",
       "\n",
       "        obitosNovos  Recuperadosnovos  emAcompanhamentoNovos  \\\n",
       "126091            1               NaN                    NaN   \n",
       "77933             0               NaN                    NaN   \n",
       "197062            0               NaN                    NaN   \n",
       "289397            0               NaN                    NaN   \n",
       "126375            0               NaN                    NaN   \n",
       "7260              0               NaN                    NaN   \n",
       "308961            2               NaN                    NaN   \n",
       "430658            0               NaN                    NaN   \n",
       "202728            0               NaN                    NaN   \n",
       "379411            0               NaN                    NaN   \n",
       "\n",
       "        interior/metropolitana  \n",
       "126091                     1.0  \n",
       "77933                      0.0  \n",
       "197062                     0.0  \n",
       "289397                     0.0  \n",
       "126375                     0.0  \n",
       "7260                       0.0  \n",
       "308961                     1.0  \n",
       "430658                     0.0  \n",
       "202728                     0.0  \n",
       "379411                     0.0  "
      ]
     },
     "execution_count": 5,
     "metadata": {},
     "output_type": "execute_result"
    }
   ],
   "source": [
    "df.sample(10)"
   ]
  },
  {
   "cell_type": "code",
   "execution_count": 6,
   "metadata": {},
   "outputs": [
    {
     "data": {
      "text/plain": [
       "estado\n",
       "SP    14763\n",
       "RJ    10080\n",
       "CE     6146\n",
       "PA     4920\n",
       "PE     4829\n",
       "AM     2823\n",
       "MA     2048\n",
       "BA     1853\n",
       "ES     1648\n",
       "AL     1052\n",
       "RN     1034\n",
       "PB      977\n",
       "MG      965\n",
       "SE      676\n",
       "PI      663\n",
       "PR      649\n",
       "RS      614\n",
       "MT      593\n",
       "DF      587\n",
       "RO      518\n",
       "GO      474\n",
       "AP      417\n",
       "AC      365\n",
       "SC      341\n",
       "RR      283\n",
       "TO      200\n",
       "MS       76\n",
       "Name: obitosAcumulado, dtype: int64"
      ]
     },
     "execution_count": 6,
     "metadata": {},
     "output_type": "execute_result"
    }
   ],
   "source": [
    "df.groupby('estado')['obitosAcumulado'].max().sort_values(ascending=False)"
   ]
  },
  {
   "cell_type": "code",
   "execution_count": 7,
   "metadata": {},
   "outputs": [
    {
     "data": {
      "text/plain": [
       "<matplotlib.axes._subplots.AxesSubplot at 0x1b93e220>"
      ]
     },
     "execution_count": 7,
     "metadata": {},
     "output_type": "execute_result"
    },
    {
     "data": {
      "image/png": "[encoded data removed]",
      "text/plain": [
       "<Figure size 432x288 with 1 Axes>"
      ]
     },
     "metadata": {
      "needs_background": "light"
     },
     "output_type": "display_data"
    }
   ],
   "source": [
    "df.groupby('estado')['obitosAcumulado'].max().sort_values().tail(5).plot(kind='barh')"
   ]
  },
  {
   "cell_type": "code",
   "execution_count": 8,
   "metadata": {},
   "outputs": [],
   "source": [
    "df['data'] = df['data'].dt.strftime('%d/%m')"
   ]
  },
  {
   "cell_type": "code",
   "execution_count": 9,
   "metadata": {},
   "outputs": [
    {
     "data": {
      "text/plain": [
       "<matplotlib.axes._subplots.AxesSubplot at 0x16c5a4c0>"
      ]
     },
     "execution_count": 9,
     "metadata": {},
     "output_type": "execute_result"
    },
    {
     "data": {
      "image/png": "[encoded data removed]",
      "text/plain": [
       "<Figure size 432x288 with 1 Axes>"
      ]
     },
     "metadata": {
      "needs_background": "light"
     },
     "output_type": "display_data"
    }
   ],
   "source": [
    "sp = df.query('municipio == \"São Paulo\"')\n",
    "sp.tail(10).plot(kind='bar', \n",
    "        x='data', y='casosNovos', color='RED')"
   ]
  },
  {
   "cell_type": "code",
   "execution_count": 10,
   "metadata": {},
   "outputs": [
    {
     "data": {
      "text/plain": [
       "<matplotlib.axes._subplots.AxesSubplot at 0x1007b988>"
      ]
     },
     "execution_count": 10,
     "metadata": {},
     "output_type": "execute_result"
    },
    {
     "data": {
      "image/png": "[encoded data removed]",
      "text/plain": [
       "<Figure size 432x288 with 1 Axes>"
      ]
     },
     "metadata": {
      "needs_background": "light"
     },
     "output_type": "display_data"
    }
   ],
   "source": [
    "sp.groupby('semanaEpi')['casosNovos'].sum().plot(kind='bar')"
   ]
  },
  {
   "cell_type": "code",
   "execution_count": 11,
   "metadata": {},
   "outputs": [
    {
     "data": {
      "text/plain": [
       "<matplotlib.axes._subplots.AxesSubplot at 0xf8caa78>"
      ]
     },
     "execution_count": 11,
     "metadata": {},
     "output_type": "execute_result"
    },
    {
     "data": {
      "image/png": "[encoded data removed]",
      "text/plain": [
       "<Figure size 432x288 with 1 Axes>"
      ]
     },
     "metadata": {
      "needs_background": "light"
     },
     "output_type": "display_data"
    }
   ],
   "source": [
    "sjc = df.query('municipio == \"São José dos Campos\"')\n",
    "sjc.tail(10).plot(kind='bar', \n",
    "        x='data', y='casosNovos', color='RED')"
   ]
  },
  {
   "cell_type": "code",
   "execution_count": 12,
   "metadata": {},
   "outputs": [
    {
     "data": {
      "text/plain": [
       "<matplotlib.axes._subplots.AxesSubplot at 0xf5347f0>"
      ]
     },
     "execution_count": 12,
     "metadata": {},
     "output_type": "execute_result"
    },
    {
     "data": {
      "image/png": "[encoded data removed]",
      "text/plain": [
       "<Figure size 432x288 with 1 Axes>"
      ]
     },
     "metadata": {
      "needs_background": "light"
     },
     "output_type": "display_data"
    }
   ],
   "source": [
    "sp.groupby('semanaEpi')['casosNovos'].sum().plot(kind='bar')"
   ]
  },
  {
   "cell_type": "code",
   "execution_count": null,
   "metadata": {},
   "outputs": [],
   "source": []
  }
 ],
 "metadata": {
  "kernelspec": {
   "display_name": "Python 3",
   "language": "python",
   "name": "python3"
  },
  "language_info": {
   "codemirror_mode": {
    "name": "ipython",
    "version": 3
   },
   "file_extension": ".py",
   "mimetype": "text/x-python",
   "name": "python",
   "nbconvert_exporter": "python",
   "pygments_lexer": "ipython3",
   "version": "3.8.3"
  }
 },
 "nbformat": 4,
 "nbformat_minor": 4
}
